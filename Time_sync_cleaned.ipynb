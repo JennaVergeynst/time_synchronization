{
 "cells": [
  {
   "cell_type": "markdown",
   "metadata": {
    "toc": "true"
   },
   "source": [
    "# Table of Contents\n",
    " <p><div class=\"lev1 toc-item\"><a href=\"#Import-dependencies-and-data\" data-toc-modified-id=\"Import-dependencies-and-data-1\"><span class=\"toc-item-num\">1&nbsp;&nbsp;</span>Import dependencies and data</a></div><div class=\"lev1 toc-item\"><a href=\"#Functions\" data-toc-modified-id=\"Functions-2\"><span class=\"toc-item-num\">2&nbsp;&nbsp;</span>Functions</a></div><div class=\"lev1 toc-item\"><a href=\"#Examples\" data-toc-modified-id=\"Examples-3\"><span class=\"toc-item-num\">3&nbsp;&nbsp;</span>Examples</a></div><div class=\"lev2 toc-item\"><a href=\"#Synchronizing-receiver-with-sync-tag\" data-toc-modified-id=\"Synchronizing-receiver-with-sync-tag-3.1\"><span class=\"toc-item-num\">3.1&nbsp;&nbsp;</span>Synchronizing receiver with sync tag</a></div><div class=\"lev2 toc-item\"><a href=\"#Synchronizing-receiver-without-synctag\" data-toc-modified-id=\"Synchronizing-receiver-without-synctag-3.2\"><span class=\"toc-item-num\">3.2&nbsp;&nbsp;</span>Synchronizing receiver without synctag</a></div>"
   ]
  },
  {
   "cell_type": "markdown",
   "metadata": {},
   "source": [
    "# Import dependencies and data"
   ]
  },
  {
   "cell_type": "code",
   "execution_count": null,
   "metadata": {
    "ExecuteTime": {
     "end_time": "2018-02-27T07:55:00.505334Z",
     "start_time": "2018-02-27T07:54:59.714178Z"
    },
    "collapsed": true
   },
   "outputs": [],
   "source": [
    "import numpy as np\n",
    "import pandas as pd \n",
    "import pytz\n",
    "from scipy.interpolate import UnivariateSpline, splrep\n",
    "import pickle\n"
   ]
  },
  {
   "cell_type": "code",
   "execution_count": null,
   "metadata": {
    "ExecuteTime": {
     "end_time": "2018-02-27T08:43:25.053920Z",
     "start_time": "2018-02-27T08:43:24.943626Z"
    },
    "collapsed": true
   },
   "outputs": [],
   "source": [
    "with open('VPS_receivers_subset.pkl', 'rb') as handle:\n",
    "    receiverlogs = pickle.load(handle)"
   ]
  },
  {
   "cell_type": "code",
   "execution_count": null,
   "metadata": {
    "ExecuteTime": {
     "end_time": "2018-02-27T07:57:08.517607Z",
     "start_time": "2018-02-27T07:57:06.528473Z"
    }
   },
   "outputs": [],
   "source": [
    "all_watertemp_data = pd.read_pickle('all_watertemp_data.pkl')\n",
    "all_salinity_data = pd.read_pickle('all_salinity_data.pkl')"
   ]
  },
  {
   "cell_type": "markdown",
   "metadata": {},
   "source": [
    "# Functions"
   ]
  },
  {
   "cell_type": "code",
   "execution_count": null,
   "metadata": {
    "ExecuteTime": {
     "end_time": "2018-02-27T07:58:53.251377Z",
     "start_time": "2018-02-27T07:58:53.183950Z"
    }
   },
   "outputs": [],
   "source": [
    "def DTD_Sx(Sx_on_rec, Sx_on_base, tcol, outlier_lim=0.001):\n",
    "    \n",
    "    \"\"\"\n",
    "    Function to calculate the Detection Time Difference of a transmitter versus a receiver pair.\n",
    "    \n",
    "    Parameters\n",
    "    ----------\n",
    "    Sx_on_rec : df with synctag detections on first receiver (THIS IS THE RECEIVER YOU WANT TO SYNCHRONISE)\n",
    "    Sx_on_base : df with synctag detections of same synctag on second receiver (BASE STATION)\n",
    "    tcol : name of time column\n",
    "    outlier_lim: outlier is removed if difference with previous point >= remove_outliers\n",
    "                 default 0.001\n",
    "                 \n",
    "    Returns\n",
    "    -------\n",
    "    DTD_res : df with time in index and DTD in rows\n",
    "    \"\"\"\n",
    "    \n",
    "    Sx_on_rec['lower_lim'] = Sx_on_rec[tcol]-pd.Timedelta(seconds=100)\n",
    "    Sx_on_rec['upper_lim'] = Sx_on_rec[tcol]+pd.Timedelta(seconds=100)\n",
    "    \n",
    "    Sx_on_base = Sx_on_base.set_index(tcol)\n",
    "    \n",
    "    def get_corres_point(row):\n",
    "        \"\"\"\n",
    "        function to get corresponding time on the second receiver of a detection on the first receiver\n",
    "        \"\"\"\n",
    "        try:\n",
    "            return Sx_on_base[row.lower_lim:row.upper_lim].index[0]\n",
    "        except IndexError: # if there is no point in interval\n",
    "            return None\n",
    "\n",
    "    Sx_on_rec['base_time'] = Sx_on_rec.apply(get_corres_point, axis=1) \n",
    "    \n",
    "    # calculate Detection Time Difference between corresponding points\n",
    "    Sx_on_rec['DTD'] = (Sx_on_rec.Time - Sx_on_rec.base_time).apply(lambda x: x.total_seconds())\n",
    "    \n",
    "    # resulting dataframe\n",
    "    DTD_res = Sx_on_rec[['Time','DTD']].set_index('Time')\n",
    "    DTD_res = DTD_res[DTD_res.diff().abs()<outlier_lim] # remove outliers, needed for modelling the spline\n",
    "    \n",
    "    return DTD_res"
   ]
  },
  {
   "cell_type": "code",
   "execution_count": null,
   "metadata": {
    "ExecuteTime": {
     "end_time": "2018-02-27T07:58:53.637372Z",
     "start_time": "2018-02-27T07:58:53.624813Z"
    }
   },
   "outputs": [],
   "source": [
    "def model_spline(DTD_S, ts, k=3, s=0.0003):\n",
    "    \"\"\"\n",
    "    Function to model the spline (error on DTD due to receiver drift)\n",
    "    \n",
    "    Parameters\n",
    "    ----------\n",
    "    DTD_S : df with time in index and DTD between 2 receivers in rows (result from DTD_Sx)\n",
    "    ts : timeseries on which to apply the modelled spline\n",
    "    k : Degree of the smoothing spline.  Must be <= 5.\n",
    "    Default is k=3, a cubic spline.\n",
    "    s : Positive smoothing factor used to choose the number of knots. \n",
    "    Default value of 0.0003 gives good equilibrum between interpolating through each point\n",
    "    and smoothing slightly (but also requires outliers >0.001 to be removed)\n",
    "    \n",
    "    \n",
    "    Returns\n",
    "    -------\n",
    "    ys : modelled spline\n",
    "    \"\"\"\n",
    "\n",
    "    x = DTD_S[DTD_S.notna().values].index.astype(int)\n",
    "    y = DTD_S[DTD_S.notna().values]['DTD'].values\n",
    "    s = UnivariateSpline(x, y, k=k, s=s)\n",
    "    \n",
    "    ys = s(np.int64(ts))\n",
    "    \n",
    "    return ys"
   ]
  },
  {
   "cell_type": "code",
   "execution_count": null,
   "metadata": {
    "ExecuteTime": {
     "end_time": "2018-02-27T07:58:55.298689Z",
     "start_time": "2018-02-27T07:58:55.286048Z"
    },
    "collapsed": true
   },
   "outputs": [],
   "source": [
    "def calc_soundspeed(T, S, z):\n",
    "    \"\"\"\n",
    "    Equation of Mackenzie: http://asa.scitation.org/doi/10.1121/1.386919\n",
    "    parameters\n",
    "    ----------\n",
    "    T = temperatuur in °C\n",
    "    S = salinity in parts per thousand\n",
    "    z = depth in meters\n",
    "    \n",
    "    returns\n",
    "    ------\n",
    "    soundspeed in m/s\n",
    "    \"\"\"\n",
    "\n",
    "    a1 = 1448.96\n",
    "    a2 = 4.591\n",
    "    a3 = -5.304e-2\n",
    "    a4 = 2.374e-4\n",
    "    a5 = 1.34\n",
    "    a6 = 1.63e-2\n",
    "    a7 = 1.675e-7\n",
    "    a8 = -1.025e-2\n",
    "    a9 = -7.139e-13\n",
    "    \n",
    "    SS = a1 + a2*T + a3*T**2 + a4*T**3 + a5*(S-35) + a6*z + a7*z**2 + a8*T*(S-35) + a9*T*z**3\n",
    "    return SS"
   ]
  },
  {
   "cell_type": "markdown",
   "metadata": {},
   "source": [
    "# Examples"
   ]
  },
  {
   "cell_type": "markdown",
   "metadata": {},
   "source": [
    "## Synchronizing receiver with sync tag"
   ]
  },
  {
   "cell_type": "markdown",
   "metadata": {},
   "source": [
    "The base station is ST08. As an example, ST15 is synchronised, based on mutual detection of S8 and S15 (the respective sync tags).  \n",
    "- ST08: 127025\n",
    "- ST15: 127033\n",
    "- S15: A69-1601-65043\n",
    "- S8: A69-1601-65046"
   ]
  },
  {
   "cell_type": "code",
   "execution_count": null,
   "metadata": {
    "ExecuteTime": {
     "end_time": "2018-02-27T07:58:59.644393Z",
     "start_time": "2018-02-27T07:58:59.638904Z"
    },
    "collapsed": true
   },
   "outputs": [],
   "source": [
    "rec_ST15 = receiverlogs['127033']\n",
    "rec_ST08 = receiverlogs['127025']"
   ]
  },
  {
   "cell_type": "code",
   "execution_count": null,
   "metadata": {
    "ExecuteTime": {
     "end_time": "2018-02-27T07:59:25.669317Z",
     "start_time": "2018-02-27T07:59:04.904918Z"
    }
   },
   "outputs": [],
   "source": [
    "S15_on_rec_ST15 = rec_ST15[rec_ST15.Transmitter == 'A69-1601-65043'].reset_index(drop=True)\n",
    "S15_on_rec_ST08 = rec_ST08[rec_ST08.Transmitter == 'A69-1601-65043'].reset_index(drop=True)\n",
    "\n",
    "DTD_S15 = DTD_Sx(Sx_on_rec=S15_on_rec_ST15, Sx_on_base=S15_on_rec_ST08, tcol='Time')"
   ]
  },
  {
   "cell_type": "code",
   "execution_count": null,
   "metadata": {
    "ExecuteTime": {
     "end_time": "2018-02-27T07:59:41.088325Z",
     "start_time": "2018-02-27T07:59:25.671197Z"
    }
   },
   "outputs": [],
   "source": [
    "S8_on_rec_ST15 = rec_ST15[rec_ST15.Transmitter == 'A69-1601-65046'].reset_index(drop=True)\n",
    "S8_on_rec_ST08 = rec_ST08[rec_ST08.Transmitter == 'A69-1601-65046'].reset_index(drop=True)\n",
    "\n",
    "DTD_S8 = DTD_Sx(Sx_on_rec=S8_on_rec_ST15, Sx_on_base=S8_on_rec_ST08, tcol='Time')"
   ]
  },
  {
   "cell_type": "code",
   "execution_count": null,
   "metadata": {
    "ExecuteTime": {
     "end_time": "2018-02-27T07:59:42.588884Z",
     "start_time": "2018-02-27T07:59:41.090564Z"
    }
   },
   "outputs": [],
   "source": [
    "ts = rec_ST15.Time\n",
    "ys_ST = model_spline(DTD_S=DTD_S15, ts=ts)\n",
    "ys_base_ST = model_spline(DTD_S=DTD_S8, ts=ts)\n",
    "spline = (ys_ST+ys_base_ST)/2\n",
    "rec_ST15['synced_time'] = rec_ST15.Time - pd.to_timedelta(spline, unit='s')"
   ]
  },
  {
   "cell_type": "code",
   "execution_count": null,
   "metadata": {
    "ExecuteTime": {
     "end_time": "2018-02-27T07:59:42.622326Z",
     "start_time": "2018-02-27T07:59:42.591176Z"
    },
    "scrolled": true
   },
   "outputs": [],
   "source": [
    "rec_ST15.head()"
   ]
  },
  {
   "cell_type": "markdown",
   "metadata": {},
   "source": [
    "## Synchronizing receiver without synctag"
   ]
  },
  {
   "cell_type": "markdown",
   "metadata": {},
   "source": [
    "The base station is ST08. As an example, ST09 is synchronised, based on mutual detection of S8 and on the distance between ST09 and ST08.   \n",
    "- ST09: 124064\n",
    "- S8: A69-1601-65046\n",
    "- distance = 65.9 m"
   ]
  },
  {
   "cell_type": "code",
   "execution_count": null,
   "metadata": {
    "ExecuteTime": {
     "end_time": "2018-02-27T07:59:42.636252Z",
     "start_time": "2018-02-27T07:59:42.625716Z"
    },
    "collapsed": true
   },
   "outputs": [],
   "source": [
    "rec_ST09 = receiverlogs['124064']"
   ]
  },
  {
   "cell_type": "code",
   "execution_count": null,
   "metadata": {
    "ExecuteTime": {
     "end_time": "2018-02-27T07:59:50.321244Z",
     "start_time": "2018-02-27T07:59:42.639929Z"
    },
    "scrolled": true
   },
   "outputs": [],
   "source": [
    "S = 'S8'\n",
    "#S8_on_rec_ST08 = rec_ST08[rec_ST08.Transmitter == 'A69-1601-65046'].reset_index(drop=True)\n",
    "S8_on_rec_ST09 = rec_ST09[rec_ST09.Transmitter == 'A69-1601-65046'].reset_index(drop=True)\n",
    "\n",
    "DTD_S8b = DTD_Sx(Sx_on_rec=S8_on_rec_ST09, Sx_on_base=S8_on_rec_ST08, tcol='Time')"
   ]
  },
  {
   "cell_type": "code",
   "execution_count": null,
   "metadata": {},
   "outputs": [],
   "source": []
  },
  {
   "cell_type": "code",
   "execution_count": null,
   "metadata": {
    "ExecuteTime": {
     "end_time": "2018-02-27T08:04:33.145438Z",
     "start_time": "2018-02-27T08:04:18.020945Z"
    }
   },
   "outputs": [],
   "source": [
    "ts = rec_ST09.Time\n",
    "ts = ts.apply(lambda x: pytz.utc.localize(x))\n",
    "\n",
    " # match water temperature/salinity datetimes to receiver datetimes\n",
    "temp_matches = all_watertemp_data.reindex(ts, method='nearest')\n",
    "sal_matches = all_salinity_data.reindex(ts, method='nearest')\n",
    "all_matches = pd.concat([temp_matches, sal_matches], axis=1)\n",
    "\n",
    "def ss_on_row(row):\n",
    "    return calc_soundspeed(T=row.Temp, S=row.Salinity_ppt, z=1)\n",
    "\n",
    "soundspeed = list(all_matches.apply(ss_on_row, axis=1)) # takes about 11s for receiver ST9\n",
    "dist = 65.9\n",
    "DTD_from_dist = np.divide(dist,soundspeed)\n",
    "\n",
    "ys_base_ST = model_spline(DTD_S=DTD_S8b, ts=ts)\n",
    "spline = ys_base_ST - DTD_from_dist\n",
    "rec_ST09['synced_time'] = rec_ST09.Time - pd.to_timedelta(spline, unit='s')"
   ]
  },
  {
   "cell_type": "code",
   "execution_count": null,
   "metadata": {
    "ExecuteTime": {
     "end_time": "2018-02-27T08:04:04.965665Z",
     "start_time": "2018-02-27T08:04:03.858275Z"
    }
   },
   "outputs": [],
   "source": [
    "rec_ST09.head()"
   ]
  },
  {
   "cell_type": "code",
   "execution_count": null,
   "metadata": {
    "collapsed": true
   },
   "outputs": [],
   "source": []
  }
 ],
 "metadata": {
  "kernelspec": {
   "display_name": "Python 3",
   "language": "python",
   "name": "python3"
  },
  "language_info": {
   "codemirror_mode": {
    "name": "ipython",
    "version": 3
   },
   "file_extension": ".py",
   "mimetype": "text/x-python",
   "name": "python",
   "nbconvert_exporter": "python",
   "pygments_lexer": "ipython3",
   "version": "3.5.5"
  },
  "nav_menu": {},
  "toc": {
   "navigate_menu": true,
   "number_sections": true,
   "sideBar": true,
   "threshold": "2",
   "toc_cell": true,
   "toc_section_display": "block",
   "toc_window_display": true
  },
  "toc_position": {
   "height": "850px",
   "left": "0px",
   "right": "1708px",
   "top": "107px",
   "width": "212px"
  }
 },
 "nbformat": 4,
 "nbformat_minor": 1
}
